{
 "cells": [
  {
   "cell_type": "markdown",
   "metadata": {},
   "source": [
    "# Import neccessary libraries"
   ]
  },
  {
   "cell_type": "code",
   "execution_count": 1,
   "metadata": {},
   "outputs": [],
   "source": [
    "import numpy as np, random, operator, pandas as pd, matplotlib.pyplot as plt"
   ]
  },
  {
   "cell_type": "markdown",
   "metadata": {},
   "source": [
    "# Create necessary classes and functions"
   ]
  },
  {
   "cell_type": "code",
   "execution_count": 2,
   "metadata": {},
   "outputs": [],
   "source": [
    "class City:\n",
    "    def __init__(self,x,y): self.x,self.y=x,y\n",
    "    def distance(self,city):\n",
    "        xdis,ydis=abs(self.x-city.x),abs(self.y-city.y)\n",
    "        return np.sqrt((xdis**2)+(ydis**2))\n",
    "    def __repr__(self): return \"(\"+str(self.x)+\",\"+str(self.y)+\")\"\n",
    "    def get(self): return [self.x,self.y]"
   ]
  },
  {
   "cell_type": "code",
   "execution_count": 3,
   "metadata": {},
   "outputs": [],
   "source": [
    "class Fitness:\n",
    "    def __init__(self,route):\n",
    "        self.route=route\n",
    "        self.distance,self.fitness=0,0.0\n",
    "    def routeDistance(self):\n",
    "        if self.distance==0:\n",
    "            pathDistance=0\n",
    "            for i in range(len(self.route)):\n",
    "                fromCity=self.route[i]\n",
    "                toCity=None\n",
    "                if i+1<len(self.route): toCity=self.route[i+1]\n",
    "                else: toCity=self.route[0]\n",
    "                pathDistance+=fromCity.distance(toCity)\n",
    "            self.distance=pathDistance\n",
    "        return self.distance\n",
    "    def routeFitness(self):\n",
    "        if self.fitness==0: self.fitness=1/float(self.routeDistance())\n",
    "        return self.fitness"
   ]
  },
  {
   "cell_type": "markdown",
   "metadata": {},
   "source": [
    "# Create initial population"
   ]
  },
  {
   "cell_type": "code",
   "execution_count": 4,
   "metadata": {},
   "outputs": [],
   "source": [
    "def createRoute(cityList): return random.sample(cityList,len(cityList))\n",
    "def initialPopulation(popSize, cityList):\n",
    "    population=[]\n",
    "    for i in range(popSize): population.append(createRoute(cityList))\n",
    "    return population"
   ]
  },
  {
   "cell_type": "markdown",
   "metadata": {},
   "source": [
    "# Create the genetic algorithm"
   ]
  },
  {
   "cell_type": "code",
   "execution_count": 5,
   "metadata": {},
   "outputs": [],
   "source": [
    "def rankRoutes(population):\n",
    "    fitnessResults={}\n",
    "    for i in range(len(population)): fitnessResults[i]=Fitness(population[i]).routeFitness()\n",
    "    return sorted(fitnessResults.items(),key=operator.itemgetter(1),reverse=True)"
   ]
  },
  {
   "cell_type": "code",
   "execution_count": 6,
   "metadata": {},
   "outputs": [],
   "source": [
    "def selection(popRanked,eliteSize):\n",
    "    selectionResults=[]\n",
    "    df=pd.DataFrame(np.array(popRanked),columns=[\"Index\",\"Fitness\"])\n",
    "    df['cum_sum']=df.Fitness.cumsum()\n",
    "    df['cum_perc']=100*df.cum_sum/df.Fitness.sum()\n",
    "    for i in range(eliteSize): selectionResults.append(popRanked[i][0])\n",
    "    for _ in range(len(popRanked)-eliteSize):\n",
    "        pick=100*random.random()\n",
    "        for i in range(len(popRanked)):\n",
    "            if pick <= df.iat[i,3]:\n",
    "                selectionResults.append(popRanked[i][0])\n",
    "                break\n",
    "    return selectionResults"
   ]
  },
  {
   "cell_type": "code",
   "execution_count": 7,
   "metadata": {},
   "outputs": [],
   "source": [
    "def matingPool(population, selectionResults):\n",
    "    matingpool=[]\n",
    "    for i in range(len(selectionResults)):\n",
    "        index=selectionResults[i]\n",
    "        matingpool.append(population[index])\n",
    "    return matingpool"
   ]
  },
  {
   "cell_type": "code",
   "execution_count": 8,
   "metadata": {},
   "outputs": [],
   "source": [
    "def breed(parent1,parent2):\n",
    "    child=childP1=childP2=[]\n",
    "    geneA,geneB=int(random.random()*len(parent1)),int(random.random()*len(parent1))\n",
    "    startGene,endGene=min(geneA,geneB),max(geneA,geneB)\n",
    "    for i in range(startGene,endGene): childP1.append(parent1[i])\n",
    "    childP2=[item for item in parent2 if item not in childP1]\n",
    "    return childP1+childP2"
   ]
  },
  {
   "cell_type": "code",
   "execution_count": 9,
   "metadata": {},
   "outputs": [],
   "source": [
    "def breedPopulation(matingpool, eliteSize):\n",
    "    children=[]\n",
    "    length=len(matingpool)-eliteSize\n",
    "    pool=random.sample(matingpool,len(matingpool))\n",
    "    for i in range(eliteSize): children.append(matingpool[i])\n",
    "    for i in range(length):\n",
    "        child=breed(pool[i], pool[len(matingpool)-i-1])\n",
    "        children.append(child)\n",
    "    return children"
   ]
  },
  {
   "cell_type": "code",
   "execution_count": 10,
   "metadata": {},
   "outputs": [],
   "source": [
    "def mutate(individual,mutationRate):\n",
    "    for swapped in range(len(individual)):\n",
    "        if(random.random()<mutationRate):\n",
    "            swapWith=int(random.random()*len(individual))\n",
    "            city1=individual[swapped]\n",
    "            city2=individual[swapWith]\n",
    "            individual[swapped] = city2\n",
    "            individual[swapWith] = city1\n",
    "    return individual"
   ]
  },
  {
   "cell_type": "code",
   "execution_count": 11,
   "metadata": {},
   "outputs": [],
   "source": [
    "def mutatePopulation(population,mutationRate):\n",
    "    mutatedPop=[]\n",
    "    for ind in range(len(population)):\n",
    "        mutatedInd=mutate(population[ind],mutationRate)\n",
    "        mutatedPop.append(mutatedInd)\n",
    "    return mutatedPop"
   ]
  },
  {
   "cell_type": "code",
   "execution_count": 12,
   "metadata": {},
   "outputs": [],
   "source": [
    "def nextGeneration(currentGen,eliteSize,mutationRate):\n",
    "    popRanked=rankRoutes(currentGen)\n",
    "    selectionResults=selection(popRanked,eliteSize)\n",
    "    matingpool=matingPool(currentGen,selectionResults)\n",
    "    children=breedPopulation(matingpool,eliteSize)\n",
    "    nextGeneration=mutatePopulation(children,mutationRate)\n",
    "    return nextGeneration"
   ]
  },
  {
   "cell_type": "code",
   "execution_count": 13,
   "metadata": {},
   "outputs": [],
   "source": [
    "def geneticAlgorithm(population,popSize,eliteSize,mutationRate,generations):\n",
    "    pop = initialPopulation(popSize,population)\n",
    "    Initial_distance=1/rankRoutes(pop)[0][1]\n",
    "    for i in range(generations): pop = nextGeneration(pop, eliteSize, mutationRate)\n",
    "    Final_distance=1/rankRoutes(pop)[0][1]\n",
    "    bestRouteIndex = rankRoutes(pop)[0][0]\n",
    "    bestRoute = pop[bestRouteIndex]\n",
    "    return bestRoute,Initial_distance,Final_distance"
   ]
  },
  {
   "cell_type": "code",
   "execution_count": 18,
   "metadata": {},
   "outputs": [],
   "source": [
    "def plotRoute(path,dis,r): # function to plot the salesman route\n",
    "    x,y=[],[]\n",
    "    for i in path:\n",
    "        k=i.get()\n",
    "        x.append(k[0])\n",
    "        y.append(k[1])\n",
    "    if r==1: plt.plot(x,y,color='g',linestyle='-',linewidth=1,marker='.',markerfacecolor='b',markersize=10)\n",
    "    else: plt.scatter(x,y)\n",
    "    plt.ylim(1,max(x)+20,10)\n",
    "    plt.xlim(1,max(y)+20,10)\n",
    "    plt.xlabel('x-axis')\n",
    "    plt.ylabel('y-axis')\n",
    "    plt.title('TSP using genetic algorithm')\n",
    "    if r==1:\n",
    "        t=\"Distance: \"+str(int(dis))+\"kms\"\n",
    "        plt.text(5,5,t,style='italic')\n",
    "    plt.show()"
   ]
  },
  {
   "cell_type": "markdown",
   "metadata": {},
   "source": [
    "# Running the genetic algorithm"
   ]
  },
  {
   "cell_type": "code",
   "execution_count": 22,
   "metadata": {},
   "outputs": [
    {
     "data": {
      "image/png": "[encoded data removed]",
      "text/plain": [
       "<Figure size 432x288 with 1 Axes>"
      ]
     },
     "metadata": {
      "needs_background": "light"
     },
     "output_type": "display_data"
    },
    {
     "name": "stdout",
     "output_type": "stream",
     "text": [
      "Initial route: (10,32) (82,61) (65,57) (95,37) (66,36) (66,79) (68,91) (30,45) (25,37) (86,66)\n",
      "Initial route distance: 286.5279571599536 kms\n"
     ]
    },
    {
     "data": {
      "image/png": "[encoded data removed]",
      "text/plain": [
       "<Figure size 432x288 with 1 Axes>"
      ]
     },
     "metadata": {
      "needs_background": "light"
     },
     "output_type": "display_data"
    },
    {
     "name": "stdout",
     "output_type": "stream",
     "text": [
      "Best route: (66,79) (68,91) (86,66) (82,61) (95,37) (66,36) (25,37) (10,32) (30,45) (65,57)\n",
      "Best route distance: 245.38643532349417 kms\n"
     ]
    },
    {
     "data": {
      "image/png": "[encoded data removed]",
      "text/plain": [
       "<Figure size 432x288 with 1 Axes>"
      ]
     },
     "metadata": {
      "needs_background": "light"
     },
     "output_type": "display_data"
    }
   ],
   "source": [
    "cityList=[]\n",
    "for _ in range(10): cityList.append(City(x=int(random.random()*100),y=int(random.random()*100)))\n",
    "R,ids,fds=geneticAlgorithm(population=cityList,popSize=40,eliteSize=10,mutationRate=0.01,generations=200)\n",
    "plotRoute(cityList,ids,0)\n",
    "print(\"Initial route:\",*cityList)\n",
    "print(\"Initial route distance:\",ids,\"kms\")\n",
    "plotRoute(cityList,ids,1)\n",
    "print(\"Best route:\",*R)\n",
    "print(\"Best route distance:\",fds,\"kms\")\n",
    "plotRoute(R,fds,1)"
   ]
  },
  {
   "cell_type": "markdown",
   "metadata": {},
   "source": [
    "# Plotting the improvement"
   ]
  },
  {
   "cell_type": "code",
   "execution_count": 17,
   "metadata": {},
   "outputs": [
    {
     "data": {
      "image/png": "[encoded data removed]",
      "text/plain": [
       "<Figure size 432x288 with 1 Axes>"
      ]
     },
     "metadata": {
      "needs_background": "light"
     },
     "output_type": "display_data"
    }
   ],
   "source": [
    "def geneticAlgorithmPlot(population,popSize,eliteSize,mutationRate,generations):\n",
    "    pop=initialPopulation(popSize,population)\n",
    "    progress=[]\n",
    "    progress.append(1/rankRoutes(pop)[0][1])\n",
    "    for i in range(generations):\n",
    "        pop=nextGeneration(pop, eliteSize, mutationRate)\n",
    "        progress.append(1/rankRoutes(pop)[0][1])\n",
    "    plt.plot(progress)\n",
    "    plt.ylabel('Distance')\n",
    "    plt.xlabel('Generation')\n",
    "    plt.show()\n",
    "geneticAlgorithmPlot(population=cityList,popSize=40,eliteSize=10,mutationRate=0.01,generations=200)"
   ]
  },
  {
   "cell_type": "code",
   "execution_count": null,
   "metadata": {},
   "outputs": [],
   "source": []
  }
 ],
 "metadata": {
  "kernelspec": {
   "display_name": "Python 3",
   "language": "python",
   "name": "python3"
  },
  "language_info": {
   "codemirror_mode": {
    "name": "ipython",
    "version": 3
   },
   "file_extension": ".py",
   "mimetype": "text/x-python",
   "name": "python",
   "nbconvert_exporter": "python",
   "pygments_lexer": "ipython3",
   "version": "3.8.3"
  }
 },
 "nbformat": 4,
 "nbformat_minor": 4
}
